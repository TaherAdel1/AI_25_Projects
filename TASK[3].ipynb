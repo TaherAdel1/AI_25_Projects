{
 "cells": [
  {
   "cell_type": "code",
   "execution_count": 2,
   "id": "20a38a55",
   "metadata": {},
   "outputs": [
    {
     "name": "stdout",
     "output_type": "stream",
     "text": [
      "The Cor Text Extracted is : gnirtS PLIO\n",
      "The requested text to be reversed is : String\n",
      "The Updated Text After Replacing \"I\" and \"O\" is: PLEU  \n",
      "The Final Decoded Message is: String PLEU\n"
     ]
    }
   ],
   "source": [
    "'''\n",
    "#Task 3\n",
    "'''\n",
    "\n",
    "text1= \"&&&**$gnirtS PLIO!!@1234\"\n",
    "\n",
    "#identifing Core Text \n",
    "core_txt= text1[6:17]\n",
    "\n",
    "#Reverseing the Requested Word \n",
    "rev_txt= text1[6:12][::-1]\n",
    "\n",
    "#Replace the REquested Vowels With another Letters \n",
    "updt=text1[13:17].replace(\"I\",\"E\").replace(\"O\",\"U\")\n",
    "\n",
    "# Create the Final Decoded Message Structure  \n",
    "fnl_msg= rev_txt+ \" \" + updt\n",
    "\n",
    "#Printing Results  \n",
    "print(f\"The Cor Text Extracted is : {core_txt}\")\n",
    "print(f\"The requested text to be reversed is : {rev_txt}\")\n",
    "print(f\"\"\"The Updated Text After Replacing \"I\" and \"O\" is: {updt}  \"\"\")\n",
    "print(f\"The Final Decoded Message is: {fnl_msg}\")"
   ]
  },
  {
   "cell_type": "code",
   "execution_count": null,
   "id": "38052bc2",
   "metadata": {},
   "outputs": [],
   "source": []
  }
 ],
 "metadata": {
  "kernelspec": {
   "display_name": "Python 3",
   "language": "python",
   "name": "python3"
  },
  "language_info": {
   "codemirror_mode": {
    "name": "ipython",
    "version": 3
   },
   "file_extension": ".py",
   "mimetype": "text/x-python",
   "name": "python",
   "nbconvert_exporter": "python",
   "pygments_lexer": "ipython3",
   "version": "3.12.9"
  }
 },
 "nbformat": 4,
 "nbformat_minor": 5
}
