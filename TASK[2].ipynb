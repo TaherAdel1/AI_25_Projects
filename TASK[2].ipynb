{
 "cells": [
  {
   "cell_type": "code",
   "execution_count": 4,
   "id": "5a78c65d",
   "metadata": {},
   "outputs": [
    {
     "name": "stdout",
     "output_type": "stream",
     "text": [
      "The Core Text is : mocleW EPGTQ\n",
      "The requested word to be reversed is: Welcome \n",
      "Final Decoded Message to be:  Welcome PGTQ\n"
     ]
    }
   ],
   "source": [
    "'''\n",
    "#Task 2\n",
    "'''\n",
    "\n",
    "text= \"###!!@mocleW EPGTQ!!!6789\"\n",
    "\n",
    "# identifing Core Text \n",
    "core_text=text[6:-7]\n",
    "print(f\"The Core Text is : {core_text}\")\n",
    "\n",
    "# reverse to be welcom\n",
    "wel= text[6:12][::-1] +\"e\"\n",
    "print(f\"The requested word to be reversed is: {wel} \")\n",
    "\n",
    "#Removing the vowels\n",
    "vowel= \"aeouiAEOUI\"\n",
    "replace=\" \"\n",
    "\n",
    "#iterating the list searching for Vowels\n",
    "for v in vowel:\n",
    "\n",
    "    dele=text.find(\" \")\n",
    "    text=text[dele+1:18].replace(v, replace)\n",
    "\n",
    "#Printing the Final Decoded Message\n",
    "Fn_txt = wel + \" \" + text\n",
    "print(f\"Final Decoded Message to be:  {Fn_txt}\")\n",
    "  \n",
    "  \n"
   ]
  },
  {
   "cell_type": "code",
   "execution_count": null,
   "id": "8781b40e",
   "metadata": {},
   "outputs": [],
   "source": []
  }
 ],
 "metadata": {
  "kernelspec": {
   "display_name": "Python 3",
   "language": "python",
   "name": "python3"
  },
  "language_info": {
   "codemirror_mode": {
    "name": "ipython",
    "version": 3
   },
   "file_extension": ".py",
   "mimetype": "text/x-python",
   "name": "python",
   "nbconvert_exporter": "python",
   "pygments_lexer": "ipython3",
   "version": "3.12.9"
  }
 },
 "nbformat": 4,
 "nbformat_minor": 5
}
