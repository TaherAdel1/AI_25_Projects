{
 "cells": [
  {
   "cell_type": "code",
   "execution_count": null,
   "id": "83799b0e",
   "metadata": {},
   "outputs": [
    {
     "name": "stdout",
     "output_type": "stream",
     "text": [
      "The User Name is : taher.adel\n",
      "The Domain Used is: acrow.\n",
      "Domain Status: Other Domain.\n"
     ]
    }
   ],
   "source": [
    "'''\n",
    "#Task 1\n",
    "'''\n",
    "\n",
    "email=str(input(\"Please Enter your Email:  \"))\n",
    "\n",
    "#Identifing \"@\" index\n",
    "at_idx=email.find(\"@\")\n",
    "\n",
    "#Identifing \".\" index after the @\n",
    "dot_idx=email.find(\".\",at_idx+1)\n",
    "\n",
    "#Check if the mail containes at least one \"@\" and one \".\" and the status of the domain used \n",
    "if at_idx != -1 and dot_idx != -1:\n",
    "\n",
    "    usr_Name= email[:at_idx]\n",
    "    domain= email[at_idx + 1:dot_idx]\n",
    "    domain_sts= email[dot_idx+1:]\n",
    "\n",
    "    if domain_sts == \"com\":\n",
    "        print(f\"The User Name is : {usr_Name}.\\nThe Domain Used is: {domain}.\\nDomain Status: Commercial Domain.\")\n",
    "\n",
    "    elif domain_sts ==\"edu\":\n",
    "        print(f\"The User Name is : {usr_Name}.\\nThe Domain Used is: {domain}.\\nDomain Status: Educational Domain.\")\n",
    "    \n",
    "    else:\n",
    "        print(f\"The User Name is : {usr_Name}.\\nThe Domain Used is: {domain}.\\nDomain Status: Other Domain.\")  \n",
    "\n",
    "else:\n",
    "    print(\"WARNING: This is Not A Valid E-Mail\")\n",
    "\n"
   ]
  },
  {
   "cell_type": "code",
   "execution_count": null,
   "id": "352c3fce",
   "metadata": {},
   "outputs": [],
   "source": []
  }
 ],
 "metadata": {
  "kernelspec": {
   "display_name": "Python 3",
   "language": "python",
   "name": "python3"
  },
  "language_info": {
   "codemirror_mode": {
    "name": "ipython",
    "version": 3
   },
   "file_extension": ".py",
   "mimetype": "text/x-python",
   "name": "python",
   "nbconvert_exporter": "python",
   "pygments_lexer": "ipython3",
   "version": "3.12.9"
  }
 },
 "nbformat": 4,
 "nbformat_minor": 5
}
